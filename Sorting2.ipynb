{
 "cells": [
  {
   "cell_type": "code",
   "execution_count": 2,
   "id": "ab47cc27",
   "metadata": {},
   "outputs": [
    {
     "name": "stdout",
     "output_type": "stream",
     "text": [
      "[0, 1, 2, 3, 4, 5, 6, 7, 8, 9]\n"
     ]
    }
   ],
   "source": [
    "array = [5,7,9,0,3,1,6,2,4,8]\n",
    "\n",
    "\n",
    "def quick_sort(array,start,end):\n",
    "    if start >= end:\n",
    "        return\n",
    "    pivot = start\n",
    "    left = start+1\n",
    "    right = end\n",
    "    while left<=right:\n",
    "        # 피벗보다 큰 데이터를 찾을 때 까지,\n",
    "        while left <= end and array[left] <= array[pivot]:\n",
    "            left+=1\n",
    "        # 피벗보다 작은 데이터를 찾을 때까지\n",
    "        while right > start and array[right] >= array[pivot]:\n",
    "            right-=1\n",
    "        if left > right: #엇갈렸다면 작은 데이터와 피벗을 교체\n",
    "            array[right],array[pivot]=array[pivot],array[right]\n",
    "        else:\n",
    "            array[left],array[right]=array[right],array[left]\n",
    "            \n",
    "    quick_sort(array,start,right-1)\n",
    "    quick_sort(array,right+1,end)\n",
    "    \n",
    "quick_sort(array,0,len(array)-1)\n",
    "print(array)            "
   ]
  },
  {
   "cell_type": "code",
   "execution_count": 3,
   "id": "63620a1c",
   "metadata": {},
   "outputs": [
    {
     "name": "stdout",
     "output_type": "stream",
     "text": [
      "[0, 1, 2, 3, 4, 5, 6, 7, 8, 9]\n"
     ]
    }
   ],
   "source": [
    "array = [5,7,9,0,3,1,6,2,4,8]\n",
    "\n",
    "\n",
    "def quick_sort(array):\n",
    "    \n",
    "    if len(array)<=1:\n",
    "        return array\n",
    "    \n",
    "    pivot=array[0]\n",
    "    tail=array[1:]\n",
    "    \n",
    "    left_side = [x for x in tail if x<=pivot] #피벗보다 작은 원소들을 넣음\n",
    "    right_side = [x for x in tail if x>pivot] #피벗보다 큰 원소들을 넣음\n",
    "    \n",
    "    #분할 이후 재귀적으로 호출\n",
    "    return quick_sort(left_side)+[pivot]+quick_sort(right_side)\n",
    "\n",
    "\n",
    "print(quick_sort(array))"
   ]
  },
  {
   "cell_type": "code",
   "execution_count": null,
   "id": "a0b1b0b7",
   "metadata": {},
   "outputs": [],
   "source": []
  }
 ],
 "metadata": {
  "kernelspec": {
   "display_name": "Python 3 (ipykernel)",
   "language": "python",
   "name": "python3"
  },
  "language_info": {
   "codemirror_mode": {
    "name": "ipython",
    "version": 3
   },
   "file_extension": ".py",
   "mimetype": "text/x-python",
   "name": "python",
   "nbconvert_exporter": "python",
   "pygments_lexer": "ipython3",
   "version": "3.9.7"
  }
 },
 "nbformat": 4,
 "nbformat_minor": 5
}
