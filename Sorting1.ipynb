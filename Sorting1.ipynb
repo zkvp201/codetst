{
 "cells": [
  {
   "cell_type": "code",
   "execution_count": 1,
   "id": "2508e6e6",
   "metadata": {},
   "outputs": [],
   "source": [
    "#selection sorting"
   ]
  },
  {
   "cell_type": "code",
   "execution_count": 2,
   "id": "76c509d3",
   "metadata": {},
   "outputs": [
    {
     "name": "stdout",
     "output_type": "stream",
     "text": [
      "[0, 1, 2, 3, 4, 5, 6, 7, 8, 9]\n"
     ]
    }
   ],
   "source": [
    "array = [7,5,9,0,3,1,6,2,4,8]\n",
    "\n",
    "for i in range(len(array)):\n",
    "    temp=i\n",
    "    for j in range(i+1,len(array)):\n",
    "        if array[temp] > array[j]:\n",
    "            temp=j\n",
    "    array[temp],array[i]=array[i],array[temp]\n",
    "\n",
    "print(array)"
   ]
  },
  {
   "cell_type": "code",
   "execution_count": 3,
   "id": "c086bbcd",
   "metadata": {},
   "outputs": [],
   "source": [
    "#insertion sorting"
   ]
  },
  {
   "cell_type": "code",
   "execution_count": 4,
   "id": "6bf9810c",
   "metadata": {},
   "outputs": [
    {
     "name": "stdout",
     "output_type": "stream",
     "text": [
      "[0, 1, 2, 3, 4, 5, 6, 7, 8, 9]\n"
     ]
    }
   ],
   "source": [
    "array = [7,5,9,0,3,1,6,2,4,8]\n",
    "\n",
    "for i in range(len(array)):\n",
    "    for j in range(i,0,-1):\n",
    "        if array[j] < array[j-1]:\n",
    "            array[j],array[j-1]=array[j-1],array[j]\n",
    "        else:\n",
    "            break\n",
    "print(array)"
   ]
  },
  {
   "cell_type": "code",
   "execution_count": null,
   "id": "99ebb98a",
   "metadata": {},
   "outputs": [],
   "source": []
  }
 ],
 "metadata": {
  "kernelspec": {
   "display_name": "Python 3 (ipykernel)",
   "language": "python",
   "name": "python3"
  },
  "language_info": {
   "codemirror_mode": {
    "name": "ipython",
    "version": 3
   },
   "file_extension": ".py",
   "mimetype": "text/x-python",
   "name": "python",
   "nbconvert_exporter": "python",
   "pygments_lexer": "ipython3",
   "version": "3.9.7"
  }
 },
 "nbformat": 4,
 "nbformat_minor": 5
}
