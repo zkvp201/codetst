{
 "cells": [
  {
   "cell_type": "code",
   "execution_count": 2,
   "id": "329887d3",
   "metadata": {},
   "outputs": [
    {
     "name": "stdout",
     "output_type": "stream",
     "text": [
      "5 8 3\n",
      "2 4 5 4 6\n",
      "46\n"
     ]
    }
   ],
   "source": [
    "\n",
    "n,m,k = map(int,input().split())\n",
    "\n",
    "data = list(map(int,input().split()))\n",
    "\n",
    "data.sort()\n",
    "\n",
    "first = data[n-1]\n",
    "second = data[n-2]\n",
    "\n",
    "result = 0\n",
    "while True:    \n",
    "    for i in range(k):\n",
    "        if m == 0:\n",
    "            break\n",
    "        result+=first\n",
    "        m-=1\n",
    "    if m ==0:\n",
    "        break\n",
    "    result+=second\n",
    "    m-=1\n",
    "print(result)\n",
    "\n",
    "\n"
   ]
  },
  {
   "cell_type": "markdown",
   "id": "0d70567f",
   "metadata": {},
   "source": [
    "\n",
    "n,m,k = map(int,input().split())\n",
    "\n",
    "data = list(map(int,input().split()))\n",
    "\n",
    "data.sort()\n",
    "\n",
    "first = data[n-1]\n",
    "second = data[n-2]\n",
    "\n",
    "count = (m/(k+1)) * k\n",
    "count += m%(k+1)\n",
    "\n",
    "result = 0\n",
    "\n",
    "result+= count * first\n",
    "result+= (m-count)*second\n",
    "\n",
    "print(result)"
   ]
  },
  {
   "cell_type": "code",
   "execution_count": 6,
   "id": "e9706377",
   "metadata": {},
   "outputs": [
    {
     "name": "stdout",
     "output_type": "stream",
     "text": [
      "5 8 3\n",
      "2 4 5 4 6\n",
      "46.0\n"
     ]
    }
   ],
   "source": [
    "n,m,k = map(int,input().split())\n",
    "\n",
    "data = list(map(int,input().split()))\n",
    "\n",
    "data.sort()\n",
    "\n",
    "first = data[n-1]\n",
    "second = data[n-2]\n",
    "\n",
    "count = (m/(k+1)) * k\n",
    "count += m%(k+1)\n",
    "\n",
    "result = 0\n",
    "result+= count * first\n",
    "result+= (m-count)*second\n",
    "\n",
    "print(result)"
   ]
  },
  {
   "cell_type": "code",
   "execution_count": 7,
   "id": "5bcac516",
   "metadata": {},
   "outputs": [],
   "source": [
    "##Q2"
   ]
  },
  {
   "cell_type": "code",
   "execution_count": 8,
   "id": "73b426e7",
   "metadata": {},
   "outputs": [
    {
     "name": "stdout",
     "output_type": "stream",
     "text": [
      "3 3\n",
      "3 1 2\n",
      "4 1 4\n",
      "2 2 2\n",
      "2\n"
     ]
    }
   ],
   "source": [
    "n,m=map(int,input().split())\n",
    "\n",
    "result=0\n",
    "\n",
    "for i in range(n):\n",
    "    data=list(map(int,input().split()))\n",
    "    min_value=min(data)\n",
    "    result = max(result,min_value)\n",
    "\n",
    "print(result)\n"
   ]
  },
  {
   "cell_type": "code",
   "execution_count": 9,
   "id": "9ea7a7f9",
   "metadata": {},
   "outputs": [],
   "source": [
    "##Q3"
   ]
  },
  {
   "cell_type": "code",
   "execution_count": 10,
   "id": "b329426f",
   "metadata": {},
   "outputs": [
    {
     "name": "stdout",
     "output_type": "stream",
     "text": [
      "25 5\n",
      "2\n"
     ]
    }
   ],
   "source": [
    "n,k=map(int,input().split())\n",
    "result = 0\n",
    "\n",
    "while n>=k:\n",
    "    while n%k!=0:\n",
    "        n-=1\n",
    "        result+=1\n",
    "    \n",
    "    n//=k\n",
    "    result+=1\n",
    "while n>1:\n",
    "    n-=1\n",
    "    result+=1\n",
    "\n",
    "\n",
    "print(result)\n",
    "\n",
    "    \n",
    "    "
   ]
  },
  {
   "cell_type": "code",
   "execution_count": null,
   "id": "7a2fef3c",
   "metadata": {},
   "outputs": [],
   "source": [
    "n,k=map(int,input().split())\n",
    "result = 0\n",
    "\n",
    "\n",
    "while True:\n",
    "    target = (n//k) * k\n",
    "    result +=(n-target)\n",
    "    n=target\n",
    "    \n",
    "    if n <k:\n",
    "        break\n",
    "    result+=1\n",
    "    n//=k\n",
    "result+=(n-1)\n",
    "print(result)\n"
   ]
  }
 ],
 "metadata": {
  "kernelspec": {
   "display_name": "Python 3 (ipykernel)",
   "language": "python",
   "name": "python3"
  },
  "language_info": {
   "codemirror_mode": {
    "name": "ipython",
    "version": 3
   },
   "file_extension": ".py",
   "mimetype": "text/x-python",
   "name": "python",
   "nbconvert_exporter": "python",
   "pygments_lexer": "ipython3",
   "version": "3.9.7"
  }
 },
 "nbformat": 4,
 "nbformat_minor": 5
}
