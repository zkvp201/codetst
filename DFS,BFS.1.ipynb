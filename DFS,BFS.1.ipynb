{
 "cells": [
  {
   "cell_type": "code",
   "execution_count": 2,
   "id": "0ea44f5e",
   "metadata": {},
   "outputs": [
    {
     "name": "stdout",
     "output_type": "stream",
     "text": [
      "1 2 7 6 8 3 4 5 "
     ]
    }
   ],
   "source": [
    "def dfs(graph,v,visited):\n",
    "    visited[v]=True\n",
    "    print(v,end=' ')\n",
    "    for i in graph[v]:\n",
    "        if not visited[i]:\n",
    "            dfs(graph,i,visited)\n",
    "graph = [\n",
    "    [],\n",
    "    [2,3,8],\n",
    "    [1,7],\n",
    "    [1,4,5],\n",
    "    [3,5],\n",
    "    [3,4],\n",
    "    [7],\n",
    "    [2,6,8],\n",
    "    [1,7]\n",
    "]\n",
    "\n",
    "visited = [False]*9\n",
    "\n",
    "dfs(graph,1,visited)"
   ]
  },
  {
   "cell_type": "code",
   "execution_count": 4,
   "id": "21ba8656",
   "metadata": {},
   "outputs": [
    {
     "name": "stdout",
     "output_type": "stream",
     "text": [
      "1 2 3 8 7 4 5 6 "
     ]
    }
   ],
   "source": [
    "from collections import deque\n",
    "def bfs(graph,start,visited):\n",
    "    queue = deque([start])\n",
    "    visited[start]=True\n",
    "    while queue:\n",
    "        v = queue.popleft()\n",
    "        print(v,end=' ')\n",
    "        for i in graph[v]:\n",
    "            if not visited[i]:\n",
    "                queue.append(i)\n",
    "                visited[i]=True\n",
    "graph = [\n",
    "    [],\n",
    "    [2,3,8],\n",
    "    [1,7],\n",
    "    [1,4,5],\n",
    "    [3,5],\n",
    "    [3,4],\n",
    "    [7],\n",
    "    [2,6,8],\n",
    "    [1,7]\n",
    "]\n",
    "visited = [False]*9\n",
    "\n",
    "bfs(graph,1,visited)"
   ]
  },
  {
   "cell_type": "code",
   "execution_count": null,
   "id": "948a340f",
   "metadata": {},
   "outputs": [],
   "source": []
  }
 ],
 "metadata": {
  "kernelspec": {
   "display_name": "Python 3 (ipykernel)",
   "language": "python",
   "name": "python3"
  },
  "language_info": {
   "codemirror_mode": {
    "name": "ipython",
    "version": 3
   },
   "file_extension": ".py",
   "mimetype": "text/x-python",
   "name": "python",
   "nbconvert_exporter": "python",
   "pygments_lexer": "ipython3",
   "version": "3.9.7"
  }
 },
 "nbformat": 4,
 "nbformat_minor": 5
}
